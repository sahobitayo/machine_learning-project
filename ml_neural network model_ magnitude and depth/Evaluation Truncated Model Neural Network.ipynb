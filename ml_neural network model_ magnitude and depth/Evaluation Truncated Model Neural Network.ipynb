{
 "cells": [
  {
   "cell_type": "code",
   "execution_count": 1,
   "metadata": {},
   "outputs": [],
   "source": [
    "# Import Dependencies\n",
    "\n",
    "import numpy as np\n",
    "import pandas as pd\n",
    "import matplotlib.pyplot as plt\n",
    "import os\n",
    "from pandas.api.types import CategoricalDtype\n",
    "from tensorflow.keras.models import Sequential, save_model, load_model\n"
   ]
  },
  {
   "cell_type": "code",
   "execution_count": 2,
   "metadata": {},
   "outputs": [],
   "source": [
    "# Load the Model Trained with Truncated Data\n",
    "\n",
    "model = load_model('models/ml_model_truncated_month_data.h5')"
   ]
  },
  {
   "cell_type": "code",
   "execution_count": 3,
   "metadata": {},
   "outputs": [
    {
     "data": {
      "text/html": [
       "<div>\n",
       "<style scoped>\n",
       "    .dataframe tbody tr th:only-of-type {\n",
       "        vertical-align: middle;\n",
       "    }\n",
       "\n",
       "    .dataframe tbody tr th {\n",
       "        vertical-align: top;\n",
       "    }\n",
       "\n",
       "    .dataframe thead th {\n",
       "        text-align: right;\n",
       "    }\n",
       "</style>\n",
       "<table border=\"1\" class=\"dataframe\">\n",
       "  <thead>\n",
       "    <tr style=\"text-align: right;\">\n",
       "      <th></th>\n",
       "      <th>month</th>\n",
       "      <th>latitude</th>\n",
       "      <th>longitude</th>\n",
       "    </tr>\n",
       "  </thead>\n",
       "  <tbody>\n",
       "    <tr>\n",
       "      <td>month</td>\n",
       "      <td>1.000000</td>\n",
       "      <td>-0.194880</td>\n",
       "      <td>-0.375219</td>\n",
       "    </tr>\n",
       "    <tr>\n",
       "      <td>latitude</td>\n",
       "      <td>-0.194880</td>\n",
       "      <td>1.000000</td>\n",
       "      <td>0.358496</td>\n",
       "    </tr>\n",
       "    <tr>\n",
       "      <td>longitude</td>\n",
       "      <td>-0.375219</td>\n",
       "      <td>0.358496</td>\n",
       "      <td>1.000000</td>\n",
       "    </tr>\n",
       "  </tbody>\n",
       "</table>\n",
       "</div>"
      ],
      "text/plain": [
       "              month  latitude  longitude\n",
       "month      1.000000 -0.194880  -0.375219\n",
       "latitude  -0.194880  1.000000   0.358496\n",
       "longitude -0.375219  0.358496   1.000000"
      ]
     },
     "execution_count": 3,
     "metadata": {},
     "output_type": "execute_result"
    }
   ],
   "source": [
    "data_pred = pd.read_csv('data_base/USGS_earthquakes/prediction_database_month_truncated_50rows.csv')\n",
    "data_pred.corr()"
   ]
  },
  {
   "cell_type": "code",
   "execution_count": 4,
   "metadata": {},
   "outputs": [],
   "source": [
    "mo_cat = CategoricalDtype(categories=[str(i) for i in range(1,13)], ordered=False)\n",
    "data_pred.month = data_pred.month.astype('str').astype(mo_cat)\n",
    "data_pred.month = data_pred.month.astype('int64')"
   ]
  },
  {
   "cell_type": "code",
   "execution_count": 5,
   "metadata": {},
   "outputs": [],
   "source": [
    "# pred_data_set.corr()"
   ]
  },
  {
   "cell_type": "code",
   "execution_count": 6,
   "metadata": {
    "scrolled": true
   },
   "outputs": [
    {
     "data": {
      "text/plain": [
       "array([[   5,   50,  150],\n",
       "       [   5,  -60,  150],\n",
       "       [   5,  -10,  130],\n",
       "       [   5,  -20,  -70],\n",
       "       [   5,   40,   10],\n",
       "       [   5,  -40, -100],\n",
       "       [   5,   40,   70],\n",
       "       [   5,   20,   50],\n",
       "       [   5,   10,  -80],\n",
       "       [   5,    0,  150],\n",
       "       [   1,    0,  140],\n",
       "       [   1,    0,  100],\n",
       "       [   1,  -60,  160],\n",
       "       [   1,   20,  -90],\n",
       "       [   1,   20,  120],\n",
       "       [   1,    0,  130],\n",
       "       [   2,   30,  130],\n",
       "       [   2,   50,  150],\n",
       "       [   2,   30,  130],\n",
       "       [   2,   30,   90],\n",
       "       [   2,    0,  130],\n",
       "       [   2,  -20,  180],\n",
       "       [   2,    0,  130],\n",
       "       [   2,  -10,  160],\n",
       "       [   2,  -20, -170],\n",
       "       [   2,  -10,  130],\n",
       "       [   2,   40,  150],\n",
       "       [   2,   40,  150],\n",
       "       [   7,  -20,  170],\n",
       "       [   7,  -10,   70],\n",
       "       [   7,   40,  120],\n",
       "       [   7,  -10,  150],\n",
       "       [   7,   40,  120],\n",
       "       [   7,  -60,  -60],\n",
       "       [   7,  -30, -180],\n",
       "       [   7,  -20, -180],\n",
       "       [   7,  -30, -180],\n",
       "       [   7,  -50,  -10],\n",
       "       [   7,  -30,  -70],\n",
       "       [   1,  -60,    0]], dtype=int64)"
      ]
     },
     "execution_count": 6,
     "metadata": {},
     "output_type": "execute_result"
    }
   ],
   "source": [
    "pred_data_set = data_pred.to_numpy()\n",
    "pred_data_set"
   ]
  },
  {
   "cell_type": "code",
   "execution_count": 7,
   "metadata": {},
   "outputs": [],
   "source": [
    "import tensorflow as tf\n",
    "import matplotlib.pyplot as plt\n",
    "# tf.convert_to_tensor(pred_data_set)\n",
    "# print(pred_data_set[0])\n",
    "predictions = model.predict(pred_data_set)\n",
    "# plt.plot(predictions)"
   ]
  },
  {
   "cell_type": "code",
   "execution_count": 9,
   "metadata": {},
   "outputs": [
    {
     "name": "stdout",
     "output_type": "stream",
     "text": [
      "[[0.33796445 0.6620355 ]\n",
      " [0.42912096 0.57087904]\n",
      " [0.3409676  0.65903234]\n",
      " [0.3948461  0.60515386]\n",
      " [0.44272357 0.55727637]\n",
      " [0.33855084 0.66144913]\n",
      " [0.3290459  0.67095405]\n",
      " [0.36445186 0.63554806]\n",
      " [0.4420225  0.5579775 ]\n",
      " [0.33592418 0.66407585]\n",
      " [0.43053636 0.5694636 ]\n",
      " [0.442516   0.5574839 ]\n",
      " [0.6051931  0.39480692]\n",
      " [0.4145442  0.5854558 ]\n",
      " [0.43741655 0.5625835 ]\n",
      " [0.43352425 0.56647575]\n",
      " [0.41109934 0.5889007 ]\n",
      " [0.40609628 0.5939037 ]\n",
      " [0.41109934 0.5889007 ]\n",
      " [0.4229389  0.5770611 ]\n",
      " [0.40977284 0.5902271 ]\n",
      " [0.39578807 0.6042119 ]\n",
      " [0.40977284 0.5902271 ]\n",
      " [0.40052953 0.5994705 ]\n",
      " [0.41696358 0.5830364 ]\n",
      " [0.40933144 0.5906685 ]\n",
      " [0.40565747 0.59434247]\n",
      " [0.40565747 0.59434247]\n",
      " [0.28815654 0.71184343]\n",
      " [0.3141553  0.68584466]\n",
      " [0.3031138  0.6968862 ]\n",
      " [0.29355794 0.70644206]\n",
      " [0.3031142  0.69688576]\n",
      " [0.59893924 0.40106073]\n",
      " [0.2896012  0.7103988 ]\n",
      " [0.325235   0.674765  ]\n",
      " [0.2896012  0.7103988 ]\n",
      " [0.7515128  0.24848713]\n",
      " [0.3182223  0.68177766]\n",
      " [0.9028055  0.09719449]]\n"
     ]
    }
   ],
   "source": [
    "predictions = model.predict(pred_data_set)\n",
    "print (predictions)"
   ]
  },
  {
   "cell_type": "code",
   "execution_count": null,
   "metadata": {},
   "outputs": [],
   "source": [
    "import tensorflow\n",
    "tensorflow.__version__"
   ]
  },
  {
   "cell_type": "code",
   "execution_count": null,
   "metadata": {},
   "outputs": [],
   "source": []
  }
 ],
 "metadata": {
  "kernelspec": {
   "display_name": "Python 3.7.4 64-bit ('base': conda)",
   "language": "python",
   "name": "python37464bitbaseconda62cc632aa68244de81d94cca3d165e0a"
  },
  "language_info": {
   "codemirror_mode": {
    "name": "ipython",
    "version": 3
   },
   "file_extension": ".py",
   "mimetype": "text/x-python",
   "name": "python",
   "nbconvert_exporter": "python",
   "pygments_lexer": "ipython3",
   "version": "3.7.4"
  }
 },
 "nbformat": 4,
 "nbformat_minor": 2
}
