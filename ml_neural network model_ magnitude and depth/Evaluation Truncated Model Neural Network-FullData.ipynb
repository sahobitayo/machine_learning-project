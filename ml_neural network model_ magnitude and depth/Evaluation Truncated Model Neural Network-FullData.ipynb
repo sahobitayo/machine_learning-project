{
 "cells": [
  {
   "cell_type": "code",
   "execution_count": 1,
   "metadata": {},
   "outputs": [],
   "source": [
    "# Import Dependencies\n",
    "\n",
    "import numpy as np\n",
    "import pandas as pd\n",
    "import matplotlib.pyplot as plt\n",
    "import os\n",
    "from pandas.api.types import CategoricalDtype\n",
    "from tensorflow.keras.models import Sequential, save_model, load_model\n"
   ]
  },
  {
   "cell_type": "code",
   "execution_count": 2,
   "metadata": {},
   "outputs": [],
   "source": [
    "# Load the Model Trained with Truncated Data\n",
    "\n",
    "model = load_model('models/ml_model_truncated_month_fulldata.h5')"
   ]
  },
  {
   "cell_type": "code",
   "execution_count": 3,
   "metadata": {},
   "outputs": [
    {
     "data": {
      "text/html": [
       "<div>\n",
       "<style scoped>\n",
       "    .dataframe tbody tr th:only-of-type {\n",
       "        vertical-align: middle;\n",
       "    }\n",
       "\n",
       "    .dataframe tbody tr th {\n",
       "        vertical-align: top;\n",
       "    }\n",
       "\n",
       "    .dataframe thead th {\n",
       "        text-align: right;\n",
       "    }\n",
       "</style>\n",
       "<table border=\"1\" class=\"dataframe\">\n",
       "  <thead>\n",
       "    <tr style=\"text-align: right;\">\n",
       "      <th></th>\n",
       "      <th>month</th>\n",
       "      <th>latitude</th>\n",
       "      <th>longitude</th>\n",
       "    </tr>\n",
       "  </thead>\n",
       "  <tbody>\n",
       "    <tr>\n",
       "      <td>month</td>\n",
       "      <td>1.000000</td>\n",
       "      <td>-0.194880</td>\n",
       "      <td>-0.375219</td>\n",
       "    </tr>\n",
       "    <tr>\n",
       "      <td>latitude</td>\n",
       "      <td>-0.194880</td>\n",
       "      <td>1.000000</td>\n",
       "      <td>0.358496</td>\n",
       "    </tr>\n",
       "    <tr>\n",
       "      <td>longitude</td>\n",
       "      <td>-0.375219</td>\n",
       "      <td>0.358496</td>\n",
       "      <td>1.000000</td>\n",
       "    </tr>\n",
       "  </tbody>\n",
       "</table>\n",
       "</div>"
      ],
      "text/plain": [
       "              month  latitude  longitude\n",
       "month      1.000000 -0.194880  -0.375219\n",
       "latitude  -0.194880  1.000000   0.358496\n",
       "longitude -0.375219  0.358496   1.000000"
      ]
     },
     "execution_count": 3,
     "metadata": {},
     "output_type": "execute_result"
    }
   ],
   "source": [
    "data_pred = pd.read_csv('data_base/USGS_earthquakes/prediction_database_month_truncated_50rows.csv')\n",
    "data_pred.corr()"
   ]
  },
  {
   "cell_type": "code",
   "execution_count": 4,
   "metadata": {},
   "outputs": [],
   "source": [
    "mo_cat = CategoricalDtype(categories=[str(i) for i in range(1,13)], ordered=False)\n",
    "data_pred.month = data_pred.month.astype('str').astype(mo_cat)\n",
    "data_pred.month = data_pred.month.astype('int64')"
   ]
  },
  {
   "cell_type": "code",
   "execution_count": 5,
   "metadata": {},
   "outputs": [],
   "source": [
    "# pred_data_set.corr()"
   ]
  },
  {
   "cell_type": "code",
   "execution_count": 6,
   "metadata": {
    "scrolled": true
   },
   "outputs": [
    {
     "data": {
      "text/plain": [
       "array([[   5,   50,  150],\n",
       "       [   5,  -60,  150],\n",
       "       [   5,  -10,  130],\n",
       "       [   5,  -20,  -70],\n",
       "       [   5,   40,   10],\n",
       "       [   5,  -40, -100],\n",
       "       [   5,   40,   70],\n",
       "       [   5,   20,   50],\n",
       "       [   5,   10,  -80],\n",
       "       [   5,    0,  150],\n",
       "       [   1,    0,  140],\n",
       "       [   1,    0,  100],\n",
       "       [   1,  -60,  160],\n",
       "       [   1,   20,  -90],\n",
       "       [   1,   20,  120],\n",
       "       [   1,    0,  130],\n",
       "       [   2,   30,  130],\n",
       "       [   2,   50,  150],\n",
       "       [   2,   30,  130],\n",
       "       [   2,   30,   90],\n",
       "       [   2,    0,  130],\n",
       "       [   2,  -20,  180],\n",
       "       [   2,    0,  130],\n",
       "       [   2,  -10,  160],\n",
       "       [   2,  -20, -170],\n",
       "       [   2,  -10,  130],\n",
       "       [   2,   40,  150],\n",
       "       [   2,   40,  150],\n",
       "       [   7,  -20,  170],\n",
       "       [   7,  -10,   70],\n",
       "       [   7,   40,  120],\n",
       "       [   7,  -10,  150],\n",
       "       [   7,   40,  120],\n",
       "       [   7,  -60,  -60],\n",
       "       [   7,  -30, -180],\n",
       "       [   7,  -20, -180],\n",
       "       [   7,  -30, -180],\n",
       "       [   7,  -50,  -10],\n",
       "       [   7,  -30,  -70],\n",
       "       [   1,  -60,    0]], dtype=int64)"
      ]
     },
     "execution_count": 6,
     "metadata": {},
     "output_type": "execute_result"
    }
   ],
   "source": [
    "pred_data_set = data_pred.to_numpy()\n",
    "pred_data_set"
   ]
  },
  {
   "cell_type": "code",
   "execution_count": 7,
   "metadata": {},
   "outputs": [
    {
     "data": {
      "text/plain": [
       "[<matplotlib.lines.Line2D at 0x1aaa3970188>,\n",
       " <matplotlib.lines.Line2D at 0x1aaa39cdd48>]"
      ]
     },
     "execution_count": 7,
     "metadata": {},
     "output_type": "execute_result"
    },
    {
     "data": {
      "image/png": "[encoded data removed]",
      "text/plain": [
       "<Figure size 432x288 with 1 Axes>"
      ]
     },
     "metadata": {
      "needs_background": "light"
     },
     "output_type": "display_data"
    }
   ],
   "source": [
    "import tensorflow as tf\n",
    "import matplotlib.pyplot as plt\n",
    "# tf.convert_to_tensor(pred_data_set)\n",
    "# print(pred_data_set[0])\n",
    "predictions = model.predict(pred_data_set)\n",
    "plt.plot(predictions)"
   ]
  },
  {
   "cell_type": "code",
   "execution_count": 8,
   "metadata": {},
   "outputs": [
    {
     "name": "stdout",
     "output_type": "stream",
     "text": [
      "[[0.75387883 0.24612117]\n",
      " [0.67464906 0.32535097]\n",
      " [0.722681   0.277319  ]\n",
      " [0.63896495 0.361035  ]\n",
      " [0.68457115 0.31542885]\n",
      " [0.61332387 0.38667613]\n",
      " [0.6751272  0.32487285]\n",
      " [0.63711154 0.36288843]\n",
      " [0.67387193 0.32612804]\n",
      " [0.7417849  0.25821507]\n",
      " [0.7148809  0.28511915]\n",
      " [0.6698769  0.33012313]\n",
      " [0.7538618  0.24613826]\n",
      " [0.6670081  0.3329919 ]\n",
      " [0.71580064 0.28419936]\n",
      " [0.70397794 0.2960221 ]\n",
      " [0.72437006 0.27563   ]\n",
      " [0.7425027  0.2574973 ]\n",
      " [0.72437006 0.27563   ]\n",
      " [0.6719232  0.32807675]\n",
      " [0.70724356 0.29275644]\n",
      " [0.76990163 0.23009832]\n",
      " [0.70724356 0.29275644]\n",
      " [0.7447973  0.2552027 ]\n",
      " [0.76174766 0.23825237]\n",
      " [0.7134844  0.2865156 ]\n",
      " [0.74254435 0.2574557 ]\n",
      " [0.74254435 0.2574557 ]\n",
      " [0.7739199  0.22608012]\n",
      " [0.661663   0.33833697]\n",
      " [0.72881275 0.27118722]\n",
      " [0.74911076 0.2508892 ]\n",
      " [0.7288127  0.27118734]\n",
      " [0.5060105  0.49398953]\n",
      " [0.7756272  0.22437279]\n",
      " [0.78734165 0.21265838]\n",
      " [0.7756272  0.22437279]\n",
      " [0.49587595 0.5041241 ]\n",
      " [0.4988277  0.5011723 ]\n",
      " [0.6950331  0.3049669 ]]\n"
     ]
    }
   ],
   "source": [
    "predictions = model.predict(pred_data_set)\n",
    "print (predictions)"
   ]
  },
  {
   "cell_type": "code",
   "execution_count": 16,
   "metadata": {},
   "outputs": [],
   "source": [
    "df = pd.DataFrame(predictions)\n",
    "df.to_csv('file.csv',index=False)"
   ]
  },
  {
   "cell_type": "code",
   "execution_count": 2,
   "metadata": {},
   "outputs": [
    {
     "ename": "NameError",
     "evalue": "name 'plt' is not defined",
     "output_type": "error",
     "traceback": [
      "\u001b[1;31m---------------------------------------------------------------------------\u001b[0m",
      "\u001b[1;31mNameError\u001b[0m                                 Traceback (most recent call last)",
      "\u001b[1;32m<ipython-input-2-0bbb690b7cb4>\u001b[0m in \u001b[0;36m<module>\u001b[1;34m\u001b[0m\n\u001b[0;32m      1\u001b[0m \u001b[1;31m# PLotting Results Location 1 - Time Series\u001b[0m\u001b[1;33m\u001b[0m\u001b[1;33m\u001b[0m\u001b[1;33m\u001b[0m\u001b[0m\n\u001b[0;32m      2\u001b[0m \u001b[1;33m\u001b[0m\u001b[0m\n\u001b[1;32m----> 3\u001b[1;33m \u001b[0mplt\u001b[0m\u001b[1;33m.\u001b[0m\u001b[0mplot\u001b[0m\u001b[1;33m(\u001b[0m\u001b[0mtime_series1\u001b[0m\u001b[1;33m)\u001b[0m\u001b[1;33m\u001b[0m\u001b[1;33m\u001b[0m\u001b[0m\n\u001b[0m",
      "\u001b[1;31mNameError\u001b[0m: name 'plt' is not defined"
     ]
    }
   ],
   "source": [
    "# PLotting Results Location 1 - Time Series \n",
    "\n",
    "plt.plot(time_series1)"
   ]
  },
  {
   "cell_type": "code",
   "execution_count": null,
   "metadata": {},
   "outputs": [],
   "source": [
    "for i in range (1,12):\n",
    "    numpy_array = np.array([[i,-30,-70]])\n",
    "    time_series2 = model.predict(numpy_array)\n",
    "print(time_series2)"
   ]
  },
  {
   "cell_type": "code",
   "execution_count": null,
   "metadata": {},
   "outputs": [],
   "source": [
    "# PLotting Results Location 2 - Time Series \n",
    "plt.plot(time_series2)"
   ]
  },
  {
   "cell_type": "code",
   "execution_count": null,
   "metadata": {},
   "outputs": [],
   "source": []
  }
 ],
 "metadata": {
  "kernelspec": {
   "display_name": "Python 3.7.4 64-bit ('base': conda)",
   "language": "python",
   "name": "python37464bitbaseconda62cc632aa68244de81d94cca3d165e0a"
  },
  "language_info": {
   "codemirror_mode": {
    "name": "ipython",
    "version": 3
   },
   "file_extension": ".py",
   "mimetype": "text/x-python",
   "name": "python",
   "nbconvert_exporter": "python",
   "pygments_lexer": "ipython3",
   "version": "3.7.4"
  }
 },
 "nbformat": 4,
 "nbformat_minor": 2
}
