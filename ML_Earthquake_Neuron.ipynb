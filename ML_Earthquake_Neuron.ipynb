{
 "cells": [
  {
   "cell_type": "markdown",
   "metadata": {},
   "source": [
    "## Machine Learning Model - Using Neural Network Model to Make a Prediction of Mag and Depth\n"
   ]
  },
  {
   "cell_type": "code",
   "execution_count": 2,
   "metadata": {},
   "outputs": [
    {
     "name": "stdout",
     "output_type": "stream",
     "text": [
      "['.git', '.gitignore', '.ipynb_checkpoints', 'earthquakes.csv', 'earthquakes_sample.csv', 'first_ml_model_earthquake.h5', 'ML_Earthquake_Neuron.ipynb', 'README.md']\n"
     ]
    }
   ],
   "source": [
    "import numpy as np\n",
    "import pandas as pd\n",
    "import matplotlib.pyplot as plt\n",
    "from sklearn.ensemble import RandomForestRegressor\n",
    "\n",
    "import os\n",
    "print(os.listdir(\"../machine_learning-project\"))"
   ]
  },
  {
   "cell_type": "code",
   "execution_count": 4,
   "metadata": {},
   "outputs": [
    {
     "data": {
      "text/html": [
       "<div>\n",
       "<style scoped>\n",
       "    .dataframe tbody tr th:only-of-type {\n",
       "        vertical-align: middle;\n",
       "    }\n",
       "\n",
       "    .dataframe tbody tr th {\n",
       "        vertical-align: top;\n",
       "    }\n",
       "\n",
       "    .dataframe thead th {\n",
       "        text-align: right;\n",
       "    }\n",
       "</style>\n",
       "<table border=\"1\" class=\"dataframe\">\n",
       "  <thead>\n",
       "    <tr style=\"text-align: right;\">\n",
       "      <th></th>\n",
       "      <th>date</th>\n",
       "      <th>latitude</th>\n",
       "      <th>longitude</th>\n",
       "      <th>depth</th>\n",
       "      <th>mag</th>\n",
       "      <th>id</th>\n",
       "      <th>place</th>\n",
       "    </tr>\n",
       "  </thead>\n",
       "  <tbody>\n",
       "    <tr>\n",
       "      <td>0</td>\n",
       "      <td>20161114</td>\n",
       "      <td>-41.7612</td>\n",
       "      <td>174.2770</td>\n",
       "      <td>20.24</td>\n",
       "      <td>5.3</td>\n",
       "      <td>us100077l5</td>\n",
       "      <td>38km SE of Blenheim, New Zealand</td>\n",
       "    </tr>\n",
       "    <tr>\n",
       "      <td>1</td>\n",
       "      <td>20161114</td>\n",
       "      <td>-41.8672</td>\n",
       "      <td>174.3710</td>\n",
       "      <td>8.75</td>\n",
       "      <td>5.1</td>\n",
       "      <td>us100077kw</td>\n",
       "      <td>52km SE of Blenheim, New Zealand</td>\n",
       "    </tr>\n",
       "    <tr>\n",
       "      <td>2</td>\n",
       "      <td>20161114</td>\n",
       "      <td>-42.0687</td>\n",
       "      <td>173.9280</td>\n",
       "      <td>10.00</td>\n",
       "      <td>5.2</td>\n",
       "      <td>us100077ip</td>\n",
       "      <td>42km NNE of Kaikoura, New Zealand</td>\n",
       "    </tr>\n",
       "    <tr>\n",
       "      <td>3</td>\n",
       "      <td>20161114</td>\n",
       "      <td>35.8979</td>\n",
       "      <td>140.8190</td>\n",
       "      <td>50.48</td>\n",
       "      <td>5.0</td>\n",
       "      <td>us100077qz</td>\n",
       "      <td>17km ESE of Kashima-shi, Japan</td>\n",
       "    </tr>\n",
       "    <tr>\n",
       "      <td>4</td>\n",
       "      <td>20161114</td>\n",
       "      <td>-42.3530</td>\n",
       "      <td>173.8550</td>\n",
       "      <td>14.83</td>\n",
       "      <td>5.8</td>\n",
       "      <td>us100077ky</td>\n",
       "      <td>15km ENE of Kaikoura, New Zealand</td>\n",
       "    </tr>\n",
       "    <tr>\n",
       "      <td>...</td>\n",
       "      <td>...</td>\n",
       "      <td>...</td>\n",
       "      <td>...</td>\n",
       "      <td>...</td>\n",
       "      <td>...</td>\n",
       "      <td>...</td>\n",
       "      <td>...</td>\n",
       "    </tr>\n",
       "    <tr>\n",
       "      <td>195</td>\n",
       "      <td>20170116</td>\n",
       "      <td>-13.6571</td>\n",
       "      <td>166.3800</td>\n",
       "      <td>10.00</td>\n",
       "      <td>5.8</td>\n",
       "      <td>us10007tfe</td>\n",
       "      <td>128km W of Sola, Vanuatu</td>\n",
       "    </tr>\n",
       "    <tr>\n",
       "      <td>196</td>\n",
       "      <td>20170117</td>\n",
       "      <td>5.4319</td>\n",
       "      <td>94.6079</td>\n",
       "      <td>54.55</td>\n",
       "      <td>5.6</td>\n",
       "      <td>us10007tps</td>\n",
       "      <td>80km W of Banda Aceh, Indonesia</td>\n",
       "    </tr>\n",
       "    <tr>\n",
       "      <td>197</td>\n",
       "      <td>20170117</td>\n",
       "      <td>19.8621</td>\n",
       "      <td>-76.5937</td>\n",
       "      <td>11.03</td>\n",
       "      <td>5.4</td>\n",
       "      <td>us10007tmh</td>\n",
       "      <td>43km S of Guisa, Cuba</td>\n",
       "    </tr>\n",
       "    <tr>\n",
       "      <td>198</td>\n",
       "      <td>20170117</td>\n",
       "      <td>-13.5404</td>\n",
       "      <td>166.5380</td>\n",
       "      <td>44.83</td>\n",
       "      <td>5.1</td>\n",
       "      <td>us10007tl5</td>\n",
       "      <td>115km WNW of Sola, Vanuatu</td>\n",
       "    </tr>\n",
       "    <tr>\n",
       "      <td>199</td>\n",
       "      <td>20170117</td>\n",
       "      <td>-56.8549</td>\n",
       "      <td>-26.0493</td>\n",
       "      <td>91.68</td>\n",
       "      <td>5.1</td>\n",
       "      <td>us10007tmm</td>\n",
       "      <td>72km ESE of Visokoi Island, South Georgia and ...</td>\n",
       "    </tr>\n",
       "  </tbody>\n",
       "</table>\n",
       "<p>200 rows × 7 columns</p>\n",
       "</div>"
      ],
      "text/plain": [
       "         date  latitude  longitude  depth  mag          id  \\\n",
       "0    20161114  -41.7612   174.2770  20.24  5.3  us100077l5   \n",
       "1    20161114  -41.8672   174.3710   8.75  5.1  us100077kw   \n",
       "2    20161114  -42.0687   173.9280  10.00  5.2  us100077ip   \n",
       "3    20161114   35.8979   140.8190  50.48  5.0  us100077qz   \n",
       "4    20161114  -42.3530   173.8550  14.83  5.8  us100077ky   \n",
       "..        ...       ...        ...    ...  ...         ...   \n",
       "195  20170116  -13.6571   166.3800  10.00  5.8  us10007tfe   \n",
       "196  20170117    5.4319    94.6079  54.55  5.6  us10007tps   \n",
       "197  20170117   19.8621   -76.5937  11.03  5.4  us10007tmh   \n",
       "198  20170117  -13.5404   166.5380  44.83  5.1  us10007tl5   \n",
       "199  20170117  -56.8549   -26.0493  91.68  5.1  us10007tmm   \n",
       "\n",
       "                                                 place  \n",
       "0                     38km SE of Blenheim, New Zealand  \n",
       "1                     52km SE of Blenheim, New Zealand  \n",
       "2                    42km NNE of Kaikoura, New Zealand  \n",
       "3                       17km ESE of Kashima-shi, Japan  \n",
       "4                    15km ENE of Kaikoura, New Zealand  \n",
       "..                                                 ...  \n",
       "195                           128km W of Sola, Vanuatu  \n",
       "196                    80km W of Banda Aceh, Indonesia  \n",
       "197                              43km S of Guisa, Cuba  \n",
       "198                         115km WNW of Sola, Vanuatu  \n",
       "199  72km ESE of Visokoi Island, South Georgia and ...  \n",
       "\n",
       "[200 rows x 7 columns]"
      ]
     },
     "execution_count": 4,
     "metadata": {},
     "output_type": "execute_result"
    }
   ],
   "source": [
    "# Loading the Data\n",
    "\n",
    "data = pd.read_csv(\"earthquakes_sample.csv\")\n",
    "data"
   ]
  },
  {
   "cell_type": "code",
   "execution_count": 5,
   "metadata": {},
   "outputs": [
    {
     "data": {
      "text/plain": [
       "Index(['date', 'latitude', 'longitude', 'depth', 'mag', 'id', 'place'], dtype='object')"
      ]
     },
     "execution_count": 5,
     "metadata": {},
     "output_type": "execute_result"
    }
   ],
   "source": [
    "#Displaying the Columns\n",
    "data.columns"
   ]
  },
  {
   "cell_type": "code",
   "execution_count": 6,
   "metadata": {},
   "outputs": [
    {
     "data": {
      "text/html": [
       "<div>\n",
       "<style scoped>\n",
       "    .dataframe tbody tr th:only-of-type {\n",
       "        vertical-align: middle;\n",
       "    }\n",
       "\n",
       "    .dataframe tbody tr th {\n",
       "        vertical-align: top;\n",
       "    }\n",
       "\n",
       "    .dataframe thead th {\n",
       "        text-align: right;\n",
       "    }\n",
       "</style>\n",
       "<table border=\"1\" class=\"dataframe\">\n",
       "  <thead>\n",
       "    <tr style=\"text-align: right;\">\n",
       "      <th></th>\n",
       "      <th>date</th>\n",
       "      <th>latitude</th>\n",
       "      <th>longitude</th>\n",
       "      <th>depth</th>\n",
       "      <th>mag</th>\n",
       "    </tr>\n",
       "  </thead>\n",
       "  <tbody>\n",
       "    <tr>\n",
       "      <td>0</td>\n",
       "      <td>20161114</td>\n",
       "      <td>-41.7612</td>\n",
       "      <td>174.277</td>\n",
       "      <td>20.24</td>\n",
       "      <td>5.3</td>\n",
       "    </tr>\n",
       "    <tr>\n",
       "      <td>1</td>\n",
       "      <td>20161114</td>\n",
       "      <td>-41.8672</td>\n",
       "      <td>174.371</td>\n",
       "      <td>8.75</td>\n",
       "      <td>5.1</td>\n",
       "    </tr>\n",
       "    <tr>\n",
       "      <td>2</td>\n",
       "      <td>20161114</td>\n",
       "      <td>-42.0687</td>\n",
       "      <td>173.928</td>\n",
       "      <td>10.00</td>\n",
       "      <td>5.2</td>\n",
       "    </tr>\n",
       "    <tr>\n",
       "      <td>3</td>\n",
       "      <td>20161114</td>\n",
       "      <td>35.8979</td>\n",
       "      <td>140.819</td>\n",
       "      <td>50.48</td>\n",
       "      <td>5.0</td>\n",
       "    </tr>\n",
       "    <tr>\n",
       "      <td>4</td>\n",
       "      <td>20161114</td>\n",
       "      <td>-42.3530</td>\n",
       "      <td>173.855</td>\n",
       "      <td>14.83</td>\n",
       "      <td>5.8</td>\n",
       "    </tr>\n",
       "  </tbody>\n",
       "</table>\n",
       "</div>"
      ],
      "text/plain": [
       "       date  latitude  longitude  depth  mag\n",
       "0  20161114  -41.7612    174.277  20.24  5.3\n",
       "1  20161114  -41.8672    174.371   8.75  5.1\n",
       "2  20161114  -42.0687    173.928  10.00  5.2\n",
       "3  20161114   35.8979    140.819  50.48  5.0\n",
       "4  20161114  -42.3530    173.855  14.83  5.8"
      ]
     },
     "execution_count": 6,
     "metadata": {},
     "output_type": "execute_result"
    }
   ],
   "source": [
    "#Dropping the columns not needed\n",
    "\n",
    "data = data[['date','latitude','longitude','depth','mag']]\n",
    "data.head()"
   ]
  },
  {
   "cell_type": "markdown",
   "metadata": {},
   "source": [
    "Model Splitting "
   ]
  },
  {
   "cell_type": "code",
   "execution_count": 7,
   "metadata": {},
   "outputs": [],
   "source": [
    "#Splitting the data\n",
    "\n",
    "X = data[['latitude','longitude','date']]\n",
    "y = data[['mag','depth']]"
   ]
  },
  {
   "cell_type": "code",
   "execution_count": 12,
   "metadata": {},
   "outputs": [
    {
     "name": "stdout",
     "output_type": "stream",
     "text": [
      "(160, 3) (40, 3) (160, 2) (40, 3)\n"
     ]
    }
   ],
   "source": [
    "#Splitting Xs and ys into traing and test datasets \n",
    "\n",
    "import numpy as np\n",
    "from sklearn.model_selection import train_test_split\n",
    "from sklearn import datasets\n",
    "from sklearn import svm\n",
    "\n",
    "X_train, X_test, y_train, y_test = train_test_split(X, y, test_size=0.20, random_state=42)\n",
    "print(X_train.shape, X_test.shape, y_train.shape, X_test.shape)"
   ]
  },
  {
   "cell_type": "code",
   "execution_count": 13,
   "metadata": {},
   "outputs": [
    {
     "data": {
      "text/plain": [
       "array([[  5.348 ,  21.5744],\n",
       "       [  5.289 ,  14.1773],\n",
       "       [  5.158 ,  22.7393],\n",
       "       [  5.393 ,  80.9138],\n",
       "       [  5.475 ,  11.065 ],\n",
       "       [  5.272 , 388.5903],\n",
       "       [  5.515 ,  37.4386],\n",
       "       [  5.511 ,  47.0193],\n",
       "       [  5.335 ,  81.5916],\n",
       "       [  5.168 ,  60.4041],\n",
       "       [  5.147 ,  46.4641],\n",
       "       [  5.238 ,  76.2467],\n",
       "       [  5.587 ,  85.6454],\n",
       "       [  5.321 ,  27.1824],\n",
       "       [  5.527 ,  42.4424],\n",
       "       [  5.46  ,  59.6556],\n",
       "       [  5.473 ,  14.3689],\n",
       "       [  5.254 ,  22.1702],\n",
       "       [  5.593 ,  38.1292],\n",
       "       [  5.213 ,  98.6116],\n",
       "       [  5.308 ,  10.284 ],\n",
       "       [  5.399 ,  93.1489],\n",
       "       [  5.523 ,  54.9864],\n",
       "       [  5.133 ,  28.766 ],\n",
       "       [  5.229 ,  39.362 ],\n",
       "       [  5.146 ,  48.2213],\n",
       "       [  5.044 ,  20.6063],\n",
       "       [  5.331 ,  61.321 ],\n",
       "       [  5.4   ,  32.1687],\n",
       "       [  5.512 ,  11.207 ],\n",
       "       [  5.224 ,  36.3138],\n",
       "       [  5.521 , 135.5905],\n",
       "       [  5.636 ,  12.9861],\n",
       "       [  5.331 ,  18.7183],\n",
       "       [  5.452 ,  62.6563],\n",
       "       [  5.375 ,  36.0536],\n",
       "       [  5.355 ,  21.5627],\n",
       "       [  5.515 ,  30.3721],\n",
       "       [  5.397 ,  78.4345],\n",
       "       [  5.423 ,  23.7703]])"
      ]
     },
     "execution_count": 13,
     "metadata": {},
     "output_type": "execute_result"
    }
   ],
   "source": [
    "#from sklearn.ensemble import RandomForestRegressor\n",
    "\n",
    "reg = RandomForestRegressor(random_state=42)\n",
    "reg.fit(X_train, y_train)\n",
    "reg.predict(X_test)"
   ]
  },
  {
   "cell_type": "code",
   "execution_count": 14,
   "metadata": {},
   "outputs": [
    {
     "data": {
      "text/plain": [
       "0.1410915877077063"
      ]
     },
     "execution_count": 14,
     "metadata": {},
     "output_type": "execute_result"
    }
   ],
   "source": [
    "#\n",
    "\n",
    "reg.score(X_test, y_test)\n"
   ]
  },
  {
   "cell_type": "code",
   "execution_count": 15,
   "metadata": {},
   "outputs": [
    {
     "data": {
      "text/plain": [
       "array([[  5.348 ,  21.5744],\n",
       "       [  5.289 ,  14.1773],\n",
       "       [  5.158 ,  22.7393],\n",
       "       [  5.393 ,  80.9138],\n",
       "       [  5.475 ,  11.065 ],\n",
       "       [  5.272 , 388.5903],\n",
       "       [  5.515 ,  37.4386],\n",
       "       [  5.511 ,  47.0193],\n",
       "       [  5.335 ,  81.5916],\n",
       "       [  5.168 ,  60.4041],\n",
       "       [  5.147 ,  46.4641],\n",
       "       [  5.238 ,  76.2467],\n",
       "       [  5.587 ,  85.6454],\n",
       "       [  5.321 ,  27.1824],\n",
       "       [  5.527 ,  42.4424],\n",
       "       [  5.46  ,  59.6556],\n",
       "       [  5.473 ,  14.3689],\n",
       "       [  5.254 ,  22.1702],\n",
       "       [  5.593 ,  38.1292],\n",
       "       [  5.213 ,  98.6116],\n",
       "       [  5.308 ,  10.284 ],\n",
       "       [  5.399 ,  93.1489],\n",
       "       [  5.523 ,  54.9864],\n",
       "       [  5.133 ,  28.766 ],\n",
       "       [  5.229 ,  39.362 ],\n",
       "       [  5.146 ,  48.2213],\n",
       "       [  5.044 ,  20.6063],\n",
       "       [  5.331 ,  61.321 ],\n",
       "       [  5.4   ,  32.1687],\n",
       "       [  5.512 ,  11.207 ],\n",
       "       [  5.224 ,  36.3138],\n",
       "       [  5.521 , 135.5905],\n",
       "       [  5.636 ,  12.9861],\n",
       "       [  5.331 ,  18.7183],\n",
       "       [  5.452 ,  62.6563],\n",
       "       [  5.375 ,  36.0536],\n",
       "       [  5.355 ,  21.5627],\n",
       "       [  5.515 ,  30.3721],\n",
       "       [  5.397 ,  78.4345],\n",
       "       [  5.423 ,  23.7703]])"
      ]
     },
     "execution_count": 15,
     "metadata": {},
     "output_type": "execute_result"
    }
   ],
   "source": [
    "from sklearn.model_selection import GridSearchCV\n",
    "\n",
    "parameters = {'n_estimators':[10, 20, 50, 100, 200, 500]}\n",
    "\n",
    "grid_obj = GridSearchCV(reg, parameters)\n",
    "grid_fit = grid_obj.fit(X_train, y_train)\n",
    "best_fit = grid_fit.best_estimator_\n",
    "best_fit.predict(X_test)"
   ]
  },
  {
   "cell_type": "code",
   "execution_count": 16,
   "metadata": {},
   "outputs": [
    {
     "data": {
      "text/plain": [
       "0.1410915877077063"
      ]
     },
     "execution_count": 16,
     "metadata": {},
     "output_type": "execute_result"
    }
   ],
   "source": [
    "#Creating the Best Fit \n",
    "\n",
    "best_fit.score(X_test, y_test)\n"
   ]
  },
  {
   "cell_type": "markdown",
   "metadata": {},
   "source": [
    "##Neural Network Model"
   ]
  },
  {
   "cell_type": "code",
   "execution_count": 17,
   "metadata": {},
   "outputs": [],
   "source": [
    "best_fit.score(X_test, y_test)\n",
    "from keras.models import Sequential\n",
    "from keras.layers import Dense\n",
    "\n",
    "def create_model(neurons, activation, optimizer, loss):\n",
    "    model = Sequential()\n",
    "    model.add(Dense(neurons, activation=activation, input_shape=(3,)))\n",
    "    model.add(Dense(neurons, activation=activation))\n",
    "    model.add(Dense(2, activation='softmax'))\n",
    "    \n",
    "    model.compile(optimizer=optimizer, loss=loss, metrics=['accuracy'])\n",
    "    \n",
    "    return model"
   ]
  },
  {
   "cell_type": "code",
   "execution_count": 18,
   "metadata": {},
   "outputs": [],
   "source": [
    "from keras.wrappers.scikit_learn import KerasClassifier\n",
    "\n",
    "model = KerasClassifier(build_fn=create_model, verbose=0)\n",
    "\n",
    "# neurons = [16, 64, 128, 256]\n",
    "neurons = [16]\n",
    "# batch_size = [10, 20, 50, 100] - this are the standar batch sizes[32, 64,128]\n",
    "batch_size = [50]\n",
    "# epochs_size = this are the standar epochs sizes[10, 100, 500, 1000] \n",
    "epochs = [100]\n",
    "# activation = ['relu', 'tanh', 'sigmoid', 'hard_sigmoid', 'linear', 'exponential']\n",
    "activation = ['sigmoid', 'relu']\n",
    "# optimizer = ['SGD', 'RMSprop', 'Adagrad', 'Adadelta', 'Adam', 'Adamax', 'Nadam']\n",
    "optimizer = ['SGD', 'Adadelta']\n",
    "loss = ['squared_hinge']\n",
    "\n",
    "param_grid = dict(neurons=neurons, batch_size=batch_size, epochs=epochs, activation=activation, optimizer=optimizer, loss=loss)"
   ]
  },
  {
   "cell_type": "code",
   "execution_count": 19,
   "metadata": {},
   "outputs": [
    {
     "name": "stdout",
     "output_type": "stream",
     "text": [
      "Best: 0.600000 using {'activation': 'sigmoid', 'batch_size': 50, 'epochs': 100, 'loss': 'squared_hinge', 'neurons': 16, 'optimizer': 'SGD'}\n",
      "0.600000 (0.489898) with: {'activation': 'sigmoid', 'batch_size': 50, 'epochs': 100, 'loss': 'squared_hinge', 'neurons': 16, 'optimizer': 'SGD'}\n",
      "0.200000 (0.400000) with: {'activation': 'sigmoid', 'batch_size': 50, 'epochs': 100, 'loss': 'squared_hinge', 'neurons': 16, 'optimizer': 'Adadelta'}\n",
      "0.400000 (0.489898) with: {'activation': 'relu', 'batch_size': 50, 'epochs': 100, 'loss': 'squared_hinge', 'neurons': 16, 'optimizer': 'SGD'}\n",
      "0.600000 (0.489898) with: {'activation': 'relu', 'batch_size': 50, 'epochs': 100, 'loss': 'squared_hinge', 'neurons': 16, 'optimizer': 'Adadelta'}\n"
     ]
    }
   ],
   "source": [
    "grid = GridSearchCV(estimator=model, param_grid=param_grid, n_jobs=-1)\n",
    "grid_result = grid.fit(X_train, y_train)\n",
    "\n",
    "print(\"Best: %f using %s\" % (grid_result.best_score_, grid_result.best_params_))\n",
    "means = grid_result.cv_results_['mean_test_score']\n",
    "stds = grid_result.cv_results_['std_test_score']\n",
    "params = grid_result.cv_results_['params']\n",
    "for mean, stdev, param in zip(means, stds, params):\n",
    "    print(\"%f (%f) with: %r\" % (mean, stdev, param))"
   ]
  },
  {
   "cell_type": "code",
   "execution_count": 20,
   "metadata": {},
   "outputs": [],
   "source": [
    "model = Sequential()\n",
    "model.add(Dense(16, activation='relu', input_shape=(3,)))\n",
    "model.add(Dense(16, activation='relu'))\n",
    "model.add(Dense(2, activation='softmax'))\n",
    "\n",
    "model.compile(optimizer='SGD', loss='squared_hinge', metrics=['accuracy'])"
   ]
  },
  {
   "cell_type": "code",
   "execution_count": 21,
   "metadata": {},
   "outputs": [
    {
     "name": "stdout",
     "output_type": "stream",
     "text": [
      "Epoch 1/20\n",
      "16/16 [==============================] - 0s 27ms/step - loss: 0.5000 - accuracy: 0.9937 - val_loss: 0.5000 - val_accuracy: 1.0000\n",
      "Epoch 2/20\n",
      "16/16 [==============================] - 0s 4ms/step - loss: 0.5000 - accuracy: 0.9937 - val_loss: 0.5000 - val_accuracy: 1.0000\n",
      "Epoch 3/20\n",
      "16/16 [==============================] - 0s 6ms/step - loss: 0.5000 - accuracy: 0.9937 - val_loss: 0.5000 - val_accuracy: 1.0000\n",
      "Epoch 4/20\n",
      "16/16 [==============================] - 0s 4ms/step - loss: 0.5000 - accuracy: 0.9937 - val_loss: 0.5000 - val_accuracy: 1.0000\n",
      "Epoch 5/20\n",
      "16/16 [==============================] - 0s 6ms/step - loss: 0.5000 - accuracy: 0.9937 - val_loss: 0.5000 - val_accuracy: 1.0000\n",
      "Epoch 6/20\n",
      "16/16 [==============================] - 0s 6ms/step - loss: 0.5000 - accuracy: 0.9937 - val_loss: 0.5000 - val_accuracy: 1.0000\n",
      "Epoch 7/20\n",
      "16/16 [==============================] - 0s 4ms/step - loss: 0.5000 - accuracy: 0.9937 - val_loss: 0.5000 - val_accuracy: 1.0000\n",
      "Epoch 8/20\n",
      "16/16 [==============================] - 0s 4ms/step - loss: 0.5000 - accuracy: 0.9937 - val_loss: 0.5000 - val_accuracy: 1.0000\n",
      "Epoch 9/20\n",
      "16/16 [==============================] - 0s 6ms/step - loss: 0.5000 - accuracy: 0.9937 - val_loss: 0.5000 - val_accuracy: 1.0000\n",
      "Epoch 10/20\n",
      "16/16 [==============================] - 0s 7ms/step - loss: 0.5000 - accuracy: 0.9937 - val_loss: 0.5000 - val_accuracy: 1.0000\n",
      "Epoch 11/20\n",
      "16/16 [==============================] - 0s 6ms/step - loss: 0.5000 - accuracy: 0.9937 - val_loss: 0.5000 - val_accuracy: 1.0000\n",
      "Epoch 12/20\n",
      "16/16 [==============================] - 0s 7ms/step - loss: 0.5000 - accuracy: 0.9937 - val_loss: 0.5000 - val_accuracy: 1.0000\n",
      "Epoch 13/20\n",
      "16/16 [==============================] - 0s 7ms/step - loss: 0.5000 - accuracy: 0.9937 - val_loss: 0.5000 - val_accuracy: 1.0000\n",
      "Epoch 14/20\n",
      "16/16 [==============================] - 0s 6ms/step - loss: 0.5000 - accuracy: 0.9937 - val_loss: 0.5000 - val_accuracy: 1.0000\n",
      "Epoch 15/20\n",
      "16/16 [==============================] - 0s 7ms/step - loss: 0.5000 - accuracy: 0.9937 - val_loss: 0.5000 - val_accuracy: 1.0000\n",
      "Epoch 16/20\n",
      "16/16 [==============================] - 0s 6ms/step - loss: 0.5000 - accuracy: 0.9937 - val_loss: 0.5000 - val_accuracy: 1.0000\n",
      "Epoch 17/20\n",
      "16/16 [==============================] - 0s 4ms/step - loss: 0.5000 - accuracy: 0.9937 - val_loss: 0.5000 - val_accuracy: 1.0000\n",
      "Epoch 18/20\n",
      "16/16 [==============================] - 0s 4ms/step - loss: 0.5000 - accuracy: 0.9937 - val_loss: 0.5000 - val_accuracy: 1.0000\n",
      "Epoch 19/20\n",
      "16/16 [==============================] - ETA: 0s - loss: 0.5000 - accuracy: 1.00 - 0s 7ms/step - loss: 0.5000 - accuracy: 0.9937 - val_loss: 0.5000 - val_accuracy: 1.0000\n",
      "Epoch 20/20\n",
      "16/16 [==============================] - 0s 7ms/step - loss: 0.5000 - accuracy: 0.9937 - val_loss: 0.5000 - val_accuracy: 1.0000\n"
     ]
    },
    {
     "data": {
      "text/plain": [
       "<tensorflow.python.keras.callbacks.History at 0x278fa3bfd08>"
      ]
     },
     "execution_count": 21,
     "metadata": {},
     "output_type": "execute_result"
    }
   ],
   "source": [
    "model.fit(X_train, y_train, batch_size=10, epochs=20, verbose=1, validation_data=(X_test, y_test))"
   ]
  },
  {
   "cell_type": "code",
   "execution_count": 22,
   "metadata": {},
   "outputs": [
    {
     "name": "stdout",
     "output_type": "stream",
     "text": [
      "2/2 [==============================] - 0s 2ms/step - loss: 0.5000 - accuracy: 1.0000\n",
      "Evaluation result on Test Data : Loss = 0.5, accuracy = 1.0\n"
     ]
    }
   ],
   "source": [
    "[test_loss, test_acc] = model.evaluate(X_test, y_test)\n",
    "print(\"Evaluation result on Test Data : Loss = {}, accuracy = {}\".format(test_loss, test_acc))"
   ]
  },
  {
   "cell_type": "code",
   "execution_count": 23,
   "metadata": {},
   "outputs": [],
   "source": [
    "model.save('ml_model_II.h5')"
   ]
  },
  {
   "cell_type": "markdown",
   "metadata": {},
   "source": [
    "# Loading a Model"
   ]
  },
  {
   "cell_type": "code",
   "execution_count": 25,
   "metadata": {},
   "outputs": [],
   "source": [
    "# Load the model\n",
    "from tensorflow.keras.models import load_model\n",
    "eq_model = load_model(\"ml_model_II.h5\")"
   ]
  },
  {
   "cell_type": "markdown",
   "metadata": {},
   "source": [
    "## Evaluating the loaded model\n"
   ]
  },
  {
   "cell_type": "code",
   "execution_count": 26,
   "metadata": {},
   "outputs": [
    {
     "ename": "NameError",
     "evalue": "name 'X_test_scaled' is not defined",
     "output_type": "error",
     "traceback": [
      "\u001b[1;31m---------------------------------------------------------------------------\u001b[0m",
      "\u001b[1;31mNameError\u001b[0m                                 Traceback (most recent call last)",
      "\u001b[1;32m<ipython-input-26-02493b87238a>\u001b[0m in \u001b[0;36m<module>\u001b[1;34m\u001b[0m\n\u001b[0;32m      1\u001b[0m model_accuracy = eq_model.evaluate(\n\u001b[1;32m----> 2\u001b[1;33m     X_test_scaled, y_test_categorical, verbose=2)\n\u001b[0m\u001b[0;32m      3\u001b[0m print(\n\u001b[0;32m      4\u001b[0m     f\"Normal Neural Network -  Accuracy: {model_accuracy}\")\n",
      "\u001b[1;31mNameError\u001b[0m: name 'X_test_scaled' is not defined"
     ]
    }
   ],
   "source": [
    "model_accuracy = eq_model.evaluate(\n",
    "    X_test_scaled, y_test_categorical, verbose=2)\n",
    "print(\n",
    "    f\"Normal Neural Network -  Accuracy: {model_accuracy}\")"
   ]
  },
  {
   "cell_type": "code",
   "execution_count": null,
   "metadata": {},
   "outputs": [],
   "source": []
  }
 ],
 "metadata": {
  "kernelspec": {
   "display_name": "Python 3.7.4 64-bit ('base': conda)",
   "language": "python",
   "name": "python37464bitbaseconda62cc632aa68244de81d94cca3d165e0a"
  },
  "language_info": {
   "codemirror_mode": {
    "name": "ipython",
    "version": 3
   },
   "file_extension": ".py",
   "mimetype": "text/x-python",
   "name": "python",
   "nbconvert_exporter": "python",
   "pygments_lexer": "ipython3",
   "version": "3.7.4"
  }
 },
 "nbformat": 4,
 "nbformat_minor": 2
}
