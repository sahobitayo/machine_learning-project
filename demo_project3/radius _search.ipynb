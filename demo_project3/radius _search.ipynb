{
 "cells": [
  {
   "cell_type": "code",
   "execution_count": 1,
   "metadata": {},
   "outputs": [],
   "source": [
    "import geopandas as gpd\n",
    "import geojsonio\n",
    "\n",
    "%matplotlib inline\n",
    "import pandas as pd\n",
    "import geopandas as gp\n",
    "import numpy as np\n",
    "import matplotlib.pyplot as plt\n",
    "from shapely.geometry import Point"
   ]
  },
  {
   "cell_type": "code",
   "execution_count": 2,
   "metadata": {},
   "outputs": [],
   "source": [
    "data = gpd.read_file(\"earthquakes_data_json.geojson\")"
   ]
  },
  {
   "cell_type": "code",
   "execution_count": 3,
   "metadata": {},
   "outputs": [
    {
     "data": {
      "text/html": [
       "<div>\n",
       "<style scoped>\n",
       "    .dataframe tbody tr th:only-of-type {\n",
       "        vertical-align: middle;\n",
       "    }\n",
       "\n",
       "    .dataframe tbody tr th {\n",
       "        vertical-align: top;\n",
       "    }\n",
       "\n",
       "    .dataframe thead th {\n",
       "        text-align: right;\n",
       "    }\n",
       "</style>\n",
       "<table border=\"1\" class=\"dataframe\">\n",
       "  <thead>\n",
       "    <tr style=\"text-align: right;\">\n",
       "      <th></th>\n",
       "      <th>date</th>\n",
       "      <th>depth</th>\n",
       "      <th>mag</th>\n",
       "      <th>id</th>\n",
       "      <th>place</th>\n",
       "      <th>geometry</th>\n",
       "    </tr>\n",
       "  </thead>\n",
       "  <tbody>\n",
       "    <tr>\n",
       "      <th>0</th>\n",
       "      <td>19600102</td>\n",
       "      <td>15.0</td>\n",
       "      <td>6.3</td>\n",
       "      <td>iscgem877909</td>\n",
       "      <td>Bouvet Island region</td>\n",
       "      <td>POINT (-1.89000 -55.87700)</td>\n",
       "    </tr>\n",
       "    <tr>\n",
       "      <th>1</th>\n",
       "      <td>19600103</td>\n",
       "      <td>15.0</td>\n",
       "      <td>5.7</td>\n",
       "      <td>iscgem877920</td>\n",
       "      <td>northern Xinjiang, China</td>\n",
       "      <td>POINT (84.54200 43.70000)</td>\n",
       "    </tr>\n",
       "    <tr>\n",
       "      <th>2</th>\n",
       "      <td>19600104</td>\n",
       "      <td>15.0</td>\n",
       "      <td>6.1</td>\n",
       "      <td>iscgemsup877930</td>\n",
       "      <td>Djibouti</td>\n",
       "      <td>POINT (42.60900 11.37400)</td>\n",
       "    </tr>\n",
       "    <tr>\n",
       "      <th>3</th>\n",
       "      <td>19600107</td>\n",
       "      <td>55.0</td>\n",
       "      <td>5.5</td>\n",
       "      <td>iscgem877960</td>\n",
       "      <td>Nicobar Islands, India region</td>\n",
       "      <td>POINT (94.54700 6.35200)</td>\n",
       "    </tr>\n",
       "    <tr>\n",
       "      <th>4</th>\n",
       "      <td>19600107</td>\n",
       "      <td>15.0</td>\n",
       "      <td>5.6</td>\n",
       "      <td>iscgem877954</td>\n",
       "      <td>Nicobar Islands, India region</td>\n",
       "      <td>POINT (94.75600 6.41800)</td>\n",
       "    </tr>\n",
       "  </tbody>\n",
       "</table>\n",
       "</div>"
      ],
      "text/plain": [
       "       date  depth  mag               id                          place  \\\n",
       "0  19600102   15.0  6.3     iscgem877909           Bouvet Island region   \n",
       "1  19600103   15.0  5.7     iscgem877920       northern Xinjiang, China   \n",
       "2  19600104   15.0  6.1  iscgemsup877930                       Djibouti   \n",
       "3  19600107   55.0  5.5     iscgem877960  Nicobar Islands, India region   \n",
       "4  19600107   15.0  5.6     iscgem877954  Nicobar Islands, India region   \n",
       "\n",
       "                     geometry  \n",
       "0  POINT (-1.89000 -55.87700)  \n",
       "1   POINT (84.54200 43.70000)  \n",
       "2   POINT (42.60900 11.37400)  \n",
       "3    POINT (94.54700 6.35200)  \n",
       "4    POINT (94.75600 6.41800)  "
      ]
     },
     "execution_count": 3,
     "metadata": {},
     "output_type": "execute_result"
    }
   ],
   "source": [
    "data.head()\n",
    "\n"
   ]
  },
  {
   "cell_type": "code",
   "execution_count": 4,
   "metadata": {},
   "outputs": [
    {
     "data": {
      "text/plain": [
       "<GeometryArray>\n",
       "[<shapely.geometry.point.Point object at 0x0000021CB3E06B08>,\n",
       " <shapely.geometry.point.Point object at 0x0000021CB439ED88>,\n",
       " <shapely.geometry.point.Point object at 0x0000021CB439EF88>,\n",
       " <shapely.geometry.point.Point object at 0x0000021CB439EF48>,\n",
       " <shapely.geometry.point.Point object at 0x0000021CB439E088>,\n",
       " <shapely.geometry.point.Point object at 0x0000021CB439EDC8>,\n",
       " <shapely.geometry.point.Point object at 0x0000021CB43A0308>,\n",
       " <shapely.geometry.point.Point object at 0x0000021CB43A0288>,\n",
       " <shapely.geometry.point.Point object at 0x0000021CB43A0248>,\n",
       " <shapely.geometry.point.Point object at 0x0000021CB439EBC8>,\n",
       " ...\n",
       " <shapely.geometry.point.Point object at 0x0000021CB492F488>,\n",
       " <shapely.geometry.point.Point object at 0x0000021CB492F408>,\n",
       " <shapely.geometry.point.Point object at 0x0000021CB492F3C8>,\n",
       " <shapely.geometry.point.Point object at 0x0000021CB492F148>,\n",
       " <shapely.geometry.point.Point object at 0x0000021CB492F348>,\n",
       " <shapely.geometry.point.Point object at 0x0000021CB492F648>,\n",
       " <shapely.geometry.point.Point object at 0x0000021CB492F5C8>,\n",
       " <shapely.geometry.point.Point object at 0x0000021CB492F588>,\n",
       " <shapely.geometry.point.Point object at 0x0000021CB492F308>,\n",
       " <shapely.geometry.point.Point object at 0x0000021CB492F508>]\n",
       "Length: 24632, dtype: geometry"
      ]
     },
     "execution_count": 4,
     "metadata": {},
     "output_type": "execute_result"
    }
   ],
   "source": [
    "data.geometry.unique()"
   ]
  },
  {
   "cell_type": "code",
   "execution_count": 5,
   "metadata": {},
   "outputs": [
    {
     "data": {
      "text/plain": [
       "<matplotlib.axes._subplots.AxesSubplot at 0x21cb4399148>"
      ]
     },
     "execution_count": 5,
     "metadata": {},
     "output_type": "execute_result"
    },
    {
     "data": {
      "image/png": "[encoded data removed]",
      "text/plain": [
       "<Figure size 432x288 with 1 Axes>"
      ]
     },
     "metadata": {
      "needs_background": "light"
     },
     "output_type": "display_data"
    }
   ],
   "source": [
    "data.plot()"
   ]
  },
  {
   "cell_type": "code",
   "execution_count": 18,
   "metadata": {},
   "outputs": [
    {
     "data": {
      "text/plain": [
       "<matplotlib.axes._subplots.AxesSubplot at 0x21cb6036188>"
      ]
     },
     "execution_count": 18,
     "metadata": {},
     "output_type": "execute_result"
    },
    {
     "data": {
      "image/png": "[encoded data removed]",
      "text/plain": [
       "<Figure size 432x288 with 1 Axes>"
      ]
     },
     "metadata": {
      "needs_background": "light"
     },
     "output_type": "display_data"
    }
   ],
   "source": [
    "# Create Fake Data\n",
    "df = pd.DataFrame(data)\n",
    "\n",
    "df.head()\n",
    "\n",
    "# create Geometry series with lat / longitude\n",
    "geometry = [Point(xy) for xy in (df.geometry)]\n",
    "\n",
    "\n",
    "# df = df.drop(['Longitude', 'Latitude'], axis = 1)\n",
    "\n",
    "# Create GeoDataFrame\n",
    "points = gp.GeoDataFrame(df, crs=None, geometry=geometry)\n",
    "\n",
    "# Create Matplotlib figure\n",
    "fig, ax = plt.subplots()\n",
    "\n",
    "# Set Axes to equal (otherwise plot looks weird)\n",
    "ax.set_aspect('equal')\n",
    "\n",
    "# Plot GeoDataFrame on Axis ax\n",
    "points.plot(ax=ax,marker='o', color='red', markersize=5)\n",
    "\n",
    "# Create new point\n",
    "center_coord = [Point(-109.1, 43.8)]\n",
    "center = gp.GeoDataFrame(crs=None, geometry=center_coord)\n",
    "\n",
    "# Plot new point\n",
    "center.plot(ax=ax,color = 'blue',markersize=5)\n",
    "# Buffer point and plot it\n",
    "circle = gp.GeoDataFrame(crs=None, geometry=center.buffer(5.0))  # 5.0 = 250 miles\n",
    "\n",
    "circle.plot(color = 'blue',ax=ax)"
   ]
  },
  {
   "cell_type": "code",
   "execution_count": 19,
   "metadata": {},
   "outputs": [
    {
     "name": "stdout",
     "output_type": "stream",
     "text": [
      "           date  depth  mag            id                               place  \\\n",
      "658    19620830   15.0  5.9  iscgem875249                                Utah   \n",
      "4758   19750328    5.0  6.1    usp0000ad8                      southern Idaho   \n",
      "4863   19750630    7.0  5.9    usp0000buf  Yellowstone National Park, Wyoming   \n",
      "5527   19761208    5.0  5.5    usp0000kp6  Yellowstone National Park, Wyoming   \n",
      "8112   19831028   10.0  6.9    usp0001zbv                      southern Idaho   \n",
      "8477   19840822   10.0  5.6    usp00026m2                      southern Idaho   \n",
      "13067  19940203    7.9  5.8    usp00067xb                             Wyoming   \n",
      "18779  20050726   12.9  5.6    usp000dvxx                     western Montana   \n",
      "\n",
      "                          geometry  index_right  \n",
      "658    POINT (-111.49700 41.96100)            0  \n",
      "4758   POINT (-112.54800 42.06100)            0  \n",
      "4863   POINT (-110.60500 44.74500)            0  \n",
      "5527   POINT (-110.79300 44.76000)            0  \n",
      "8112   POINT (-113.85700 44.05800)            0  \n",
      "8477   POINT (-114.00800 44.46700)            0  \n",
      "13067  POINT (-110.97600 42.76200)            0  \n",
      "18779  POINT (-112.61500 45.36500)            0  \n",
      "Total points: 24638\n",
      "Points inside circle: 8\n",
      "Points outside circle: 24630\n"
     ]
    },
    {
     "data": {
      "image/png": "[encoded data removed]",
      "text/plain": [
       "<Figure size 432x288 with 1 Axes>"
      ]
     },
     "metadata": {
      "needs_background": "light"
     },
     "output_type": "display_data"
    }
   ],
   "source": [
    "# Calculate the points inside the circle \n",
    "\n",
    "pointsinside = gp.sjoin(points,circle,how=\"inner\")\n",
    "print(pointsinside)\n",
    "pointsinside.type\n",
    "\n",
    "\n",
    "\n",
    "\n",
    "# Now the points outside the circle is just the difference \n",
    "# between  points and points inside (see the ~)\n",
    "\n",
    "pointsoutside = points[~points.index.isin(pointsinside.index)]\n",
    "\n",
    "\n",
    "# Create a nice plot \n",
    "fig, ax = plt.subplots()\n",
    "ax.set_aspect('equal')\n",
    "circle.plot(color = 'white',ax=ax)\n",
    "center.plot(ax=ax,color = 'blue',markersize=5)\n",
    "pointsinside.plot(ax=ax,marker='o', color='green', markersize=5)\n",
    "\n",
    "pointsoutside.plot(ax=ax,marker='o', color='yellow', markersize=5)\n",
    "\n",
    "print('Total points:' ,len(points))\n",
    "print('Points inside circle:' ,len(pointsinside))\n",
    "print('Points outside circle:' ,len(pointsoutside))"
   ]
  },
  {
   "cell_type": "code",
   "execution_count": 20,
   "metadata": {},
   "outputs": [
    {
     "data": {
      "text/plain": [
       "658      Point\n",
       "4758     Point\n",
       "4863     Point\n",
       "5527     Point\n",
       "8112     Point\n",
       "8477     Point\n",
       "13067    Point\n",
       "18779    Point\n",
       "dtype: object"
      ]
     },
     "execution_count": 20,
     "metadata": {},
     "output_type": "execute_result"
    }
   ],
   "source": [
    "pointsinside.type"
   ]
  },
  {
   "cell_type": "code",
   "execution_count": 21,
   "metadata": {},
   "outputs": [
    {
     "data": {
      "text/plain": [
       "{'date': 'date',\n",
       " 'depth': 'depth',\n",
       " 'mag': 'mag',\n",
       " 'id': 'id',\n",
       " 'place': 'place',\n",
       " 'geometry': 'geometry',\n",
       " 'index_right': 'index_right'}"
      ]
     },
     "execution_count": 21,
     "metadata": {},
     "output_type": "execute_result"
    }
   ],
   "source": [
    "pointsinside.apply(lambda x: x.name).to_dict()"
   ]
  },
  {
   "cell_type": "code",
   "execution_count": 22,
   "metadata": {},
   "outputs": [
    {
     "data": {
      "text/plain": [
       "658      POINT (-111.49700 41.96100)\n",
       "4758     POINT (-112.54800 42.06100)\n",
       "4863     POINT (-110.60500 44.74500)\n",
       "5527     POINT (-110.79300 44.76000)\n",
       "8112     POINT (-113.85700 44.05800)\n",
       "8477     POINT (-114.00800 44.46700)\n",
       "13067    POINT (-110.97600 42.76200)\n",
       "18779    POINT (-112.61500 45.36500)\n",
       "Name: geometry, dtype: geometry"
      ]
     },
     "execution_count": 22,
     "metadata": {},
     "output_type": "execute_result"
    }
   ],
   "source": [
    "pointsinside[\"geometry\"]"
   ]
  },
  {
   "cell_type": "code",
   "execution_count": 23,
   "metadata": {},
   "outputs": [
    {
     "data": {
      "text/html": [
       "<div>\n",
       "<style scoped>\n",
       "    .dataframe tbody tr th:only-of-type {\n",
       "        vertical-align: middle;\n",
       "    }\n",
       "\n",
       "    .dataframe tbody tr th {\n",
       "        vertical-align: top;\n",
       "    }\n",
       "\n",
       "    .dataframe thead th {\n",
       "        text-align: right;\n",
       "    }\n",
       "</style>\n",
       "<table border=\"1\" class=\"dataframe\">\n",
       "  <thead>\n",
       "    <tr style=\"text-align: right;\">\n",
       "      <th></th>\n",
       "      <th>date</th>\n",
       "      <th>depth</th>\n",
       "      <th>mag</th>\n",
       "      <th>id</th>\n",
       "      <th>place</th>\n",
       "      <th>geometry</th>\n",
       "      <th>index_right</th>\n",
       "      <th>lat</th>\n",
       "      <th>long</th>\n",
       "    </tr>\n",
       "  </thead>\n",
       "  <tbody>\n",
       "    <tr>\n",
       "      <th>658</th>\n",
       "      <td>19620830</td>\n",
       "      <td>15.0</td>\n",
       "      <td>5.9</td>\n",
       "      <td>iscgem875249</td>\n",
       "      <td>Utah</td>\n",
       "      <td>POINT (-111.49700 41.96100)</td>\n",
       "      <td>0</td>\n",
       "      <td>-111.497</td>\n",
       "      <td>41.961</td>\n",
       "    </tr>\n",
       "    <tr>\n",
       "      <th>4758</th>\n",
       "      <td>19750328</td>\n",
       "      <td>5.0</td>\n",
       "      <td>6.1</td>\n",
       "      <td>usp0000ad8</td>\n",
       "      <td>southern Idaho</td>\n",
       "      <td>POINT (-112.54800 42.06100)</td>\n",
       "      <td>0</td>\n",
       "      <td>-112.548</td>\n",
       "      <td>42.061</td>\n",
       "    </tr>\n",
       "    <tr>\n",
       "      <th>4863</th>\n",
       "      <td>19750630</td>\n",
       "      <td>7.0</td>\n",
       "      <td>5.9</td>\n",
       "      <td>usp0000buf</td>\n",
       "      <td>Yellowstone National Park, Wyoming</td>\n",
       "      <td>POINT (-110.60500 44.74500)</td>\n",
       "      <td>0</td>\n",
       "      <td>-110.605</td>\n",
       "      <td>44.745</td>\n",
       "    </tr>\n",
       "    <tr>\n",
       "      <th>5527</th>\n",
       "      <td>19761208</td>\n",
       "      <td>5.0</td>\n",
       "      <td>5.5</td>\n",
       "      <td>usp0000kp6</td>\n",
       "      <td>Yellowstone National Park, Wyoming</td>\n",
       "      <td>POINT (-110.79300 44.76000)</td>\n",
       "      <td>0</td>\n",
       "      <td>-110.793</td>\n",
       "      <td>44.760</td>\n",
       "    </tr>\n",
       "    <tr>\n",
       "      <th>8112</th>\n",
       "      <td>19831028</td>\n",
       "      <td>10.0</td>\n",
       "      <td>6.9</td>\n",
       "      <td>usp0001zbv</td>\n",
       "      <td>southern Idaho</td>\n",
       "      <td>POINT (-113.85700 44.05800)</td>\n",
       "      <td>0</td>\n",
       "      <td>-113.857</td>\n",
       "      <td>44.058</td>\n",
       "    </tr>\n",
       "    <tr>\n",
       "      <th>8477</th>\n",
       "      <td>19840822</td>\n",
       "      <td>10.0</td>\n",
       "      <td>5.6</td>\n",
       "      <td>usp00026m2</td>\n",
       "      <td>southern Idaho</td>\n",
       "      <td>POINT (-114.00800 44.46700)</td>\n",
       "      <td>0</td>\n",
       "      <td>-114.008</td>\n",
       "      <td>44.467</td>\n",
       "    </tr>\n",
       "    <tr>\n",
       "      <th>13067</th>\n",
       "      <td>19940203</td>\n",
       "      <td>7.9</td>\n",
       "      <td>5.8</td>\n",
       "      <td>usp00067xb</td>\n",
       "      <td>Wyoming</td>\n",
       "      <td>POINT (-110.97600 42.76200)</td>\n",
       "      <td>0</td>\n",
       "      <td>-110.976</td>\n",
       "      <td>42.762</td>\n",
       "    </tr>\n",
       "    <tr>\n",
       "      <th>18779</th>\n",
       "      <td>20050726</td>\n",
       "      <td>12.9</td>\n",
       "      <td>5.6</td>\n",
       "      <td>usp000dvxx</td>\n",
       "      <td>western Montana</td>\n",
       "      <td>POINT (-112.61500 45.36500)</td>\n",
       "      <td>0</td>\n",
       "      <td>-112.615</td>\n",
       "      <td>45.365</td>\n",
       "    </tr>\n",
       "  </tbody>\n",
       "</table>\n",
       "</div>"
      ],
      "text/plain": [
       "           date  depth  mag            id                               place  \\\n",
       "658    19620830   15.0  5.9  iscgem875249                                Utah   \n",
       "4758   19750328    5.0  6.1    usp0000ad8                      southern Idaho   \n",
       "4863   19750630    7.0  5.9    usp0000buf  Yellowstone National Park, Wyoming   \n",
       "5527   19761208    5.0  5.5    usp0000kp6  Yellowstone National Park, Wyoming   \n",
       "8112   19831028   10.0  6.9    usp0001zbv                      southern Idaho   \n",
       "8477   19840822   10.0  5.6    usp00026m2                      southern Idaho   \n",
       "13067  19940203    7.9  5.8    usp00067xb                             Wyoming   \n",
       "18779  20050726   12.9  5.6    usp000dvxx                     western Montana   \n",
       "\n",
       "                          geometry  index_right      lat    long  \n",
       "658    POINT (-111.49700 41.96100)            0 -111.497  41.961  \n",
       "4758   POINT (-112.54800 42.06100)            0 -112.548  42.061  \n",
       "4863   POINT (-110.60500 44.74500)            0 -110.605  44.745  \n",
       "5527   POINT (-110.79300 44.76000)            0 -110.793  44.760  \n",
       "8112   POINT (-113.85700 44.05800)            0 -113.857  44.058  \n",
       "8477   POINT (-114.00800 44.46700)            0 -114.008  44.467  \n",
       "13067  POINT (-110.97600 42.76200)            0 -110.976  42.762  \n",
       "18779  POINT (-112.61500 45.36500)            0 -112.615  45.365  "
      ]
     },
     "execution_count": 23,
     "metadata": {},
     "output_type": "execute_result"
    }
   ],
   "source": [
    "pointsinside['lat'] = pointsinside['geometry'].x\n",
    "pointsinside['long'] = pointsinside['geometry'].y\n",
    "pointsinside"
   ]
  },
  {
   "cell_type": "code",
   "execution_count": 24,
   "metadata": {},
   "outputs": [
    {
     "data": {
      "text/plain": [
       "[{'date': 19620830,\n",
       "  'depth': 15.0,\n",
       "  'mag': 5.9,\n",
       "  'id': 'iscgem875249',\n",
       "  'place': 'Utah',\n",
       "  'geometry': <shapely.geometry.point.Point at 0x21cb49fca88>,\n",
       "  'index_right': 0,\n",
       "  'lat': -111.497,\n",
       "  'long': 41.961},\n",
       " {'date': 19750328,\n",
       "  'depth': 5.0,\n",
       "  'mag': 6.1,\n",
       "  'id': 'usp0000ad8',\n",
       "  'place': 'southern Idaho',\n",
       "  'geometry': <shapely.geometry.point.Point at 0x21cb4da7d88>,\n",
       "  'index_right': 0,\n",
       "  'lat': -112.548,\n",
       "  'long': 42.061},\n",
       " {'date': 19750630,\n",
       "  'depth': 7.0,\n",
       "  'mag': 5.9,\n",
       "  'id': 'usp0000buf',\n",
       "  'place': 'Yellowstone National Park, Wyoming',\n",
       "  'geometry': <shapely.geometry.point.Point at 0x21cb4da4648>,\n",
       "  'index_right': 0,\n",
       "  'lat': -110.605,\n",
       "  'long': 44.745},\n",
       " {'date': 19761208,\n",
       "  'depth': 5.0,\n",
       "  'mag': 5.5,\n",
       "  'id': 'usp0000kp6',\n",
       "  'place': 'Yellowstone National Park, Wyoming',\n",
       "  'geometry': <shapely.geometry.point.Point at 0x21cb4d7ce48>,\n",
       "  'index_right': 0,\n",
       "  'lat': -110.793,\n",
       "  'long': 44.76},\n",
       " {'date': 19831028,\n",
       "  'depth': 10.0,\n",
       "  'mag': 6.9,\n",
       "  'id': 'usp0001zbv',\n",
       "  'place': 'southern Idaho',\n",
       "  'geometry': <shapely.geometry.point.Point at 0x21cb4ce5848>,\n",
       "  'index_right': 0,\n",
       "  'lat': -113.857,\n",
       "  'long': 44.058},\n",
       " {'date': 19840822,\n",
       "  'depth': 10.0,\n",
       "  'mag': 5.6,\n",
       "  'id': 'usp00026m2',\n",
       "  'place': 'southern Idaho',\n",
       "  'geometry': <shapely.geometry.point.Point at 0x21cb4cd0e08>,\n",
       "  'index_right': 0,\n",
       "  'lat': -114.008,\n",
       "  'long': 44.467},\n",
       " {'date': 19940203,\n",
       "  'depth': 7.9,\n",
       "  'mag': 5.8,\n",
       "  'id': 'usp00067xb',\n",
       "  'place': 'Wyoming',\n",
       "  'geometry': <shapely.geometry.point.Point at 0x21cb4bc6bc8>,\n",
       "  'index_right': 0,\n",
       "  'lat': -110.976,\n",
       "  'long': 42.762},\n",
       " {'date': 20050726,\n",
       "  'depth': 12.9,\n",
       "  'mag': 5.6,\n",
       "  'id': 'usp000dvxx',\n",
       "  'place': 'western Montana',\n",
       "  'geometry': <shapely.geometry.point.Point at 0x21cb4a7a7c8>,\n",
       "  'index_right': 0,\n",
       "  'lat': -112.615,\n",
       "  'long': 45.365}]"
      ]
     },
     "execution_count": 24,
     "metadata": {},
     "output_type": "execute_result"
    }
   ],
   "source": [
    "pointsinside.to_dict('records')"
   ]
  },
  {
   "cell_type": "code",
   "execution_count": 25,
   "metadata": {},
   "outputs": [],
   "source": [
    "# ask the user for lat and long, and radius\n",
    "# 2: manipulation from above to get the pointsinside\n",
    "# turn pointsinside dict into a json \n",
    "# serve as a json/api and consume in javascript \n",
    "\n",
    "# do all of this inside app.py "
   ]
  },
  {
   "cell_type": "code",
   "execution_count": 26,
   "metadata": {},
   "outputs": [],
   "source": [
    "df = pointsinside\n",
    "df = df.drop(columns = ['index_right', 'lat', 'long'])\n",
    "# def df_to_geojson(df):\n",
    "# # def df_to_geojson(df, properties, lat='latitude', lon='longitude'):    \n",
    "#     geojson = {'type':'FeatureCollection', 'features':[]}\n",
    "#     for _, row in df.iterrows():\n",
    "#         feature = {'type':'Feature',\n",
    "#                    'properties':{},\n",
    "#                    'geometry':{'type':'Point',\n",
    "#                                'coordinates':[]}}\n",
    "#         feature['geometry']['coordinates'] = [row[lon],row[lat]]\n",
    "#         for prop in properties:\n",
    "#             feature['properties'][prop] = row[prop]\n",
    "#         geojson['features'].append(feature)\n",
    "#     return geojson\n"
   ]
  },
  {
   "cell_type": "code",
   "execution_count": 27,
   "metadata": {},
   "outputs": [],
   "source": [
    "# geojson = df_to_geojson(df)\n",
    "df.to_file(\"output.geojson\", driver=\"GeoJSON\")\n",
    "\n",
    "# countries_gdf.to_file(\"countries.geojson\", driver='GeoJSON')"
   ]
  },
  {
   "cell_type": "code",
   "execution_count": 28,
   "metadata": {},
   "outputs": [
    {
     "ename": "AttributeError",
     "evalue": "module 'geopandas' has no attribute 'write_file'",
     "output_type": "error",
     "traceback": [
      "\u001b[1;31m---------------------------------------------------------------------------\u001b[0m",
      "\u001b[1;31mAttributeError\u001b[0m                            Traceback (most recent call last)",
      "\u001b[1;32m<ipython-input-28-3117730e3111>\u001b[0m in \u001b[0;36m<module>\u001b[1;34m\u001b[0m\n\u001b[1;32m----> 1\u001b[1;33m \u001b[0mdata\u001b[0m \u001b[1;33m=\u001b[0m \u001b[0mgp\u001b[0m\u001b[1;33m.\u001b[0m\u001b[0mwrite_file\u001b[0m\u001b[1;33m(\u001b[0m\u001b[1;34m\"filtered_earthquakes_data.geojson\"\u001b[0m\u001b[1;33m)\u001b[0m\u001b[1;33m\u001b[0m\u001b[1;33m\u001b[0m\u001b[0m\n\u001b[0m",
      "\u001b[1;31mAttributeError\u001b[0m: module 'geopandas' has no attribute 'write_file'"
     ]
    }
   ],
   "source": [
    "data = gp.write_file(\"filtered_earthquakes_data.geojson\")"
   ]
  },
  {
   "cell_type": "code",
   "execution_count": null,
   "metadata": {},
   "outputs": [],
   "source": []
  }
 ],
 "metadata": {
  "kernelspec": {
   "display_name": "Python 3",
   "language": "python",
   "name": "python3"
  },
  "language_info": {
   "codemirror_mode": {
    "name": "ipython",
    "version": 3
   },
   "file_extension": ".py",
   "mimetype": "text/x-python",
   "name": "python",
   "nbconvert_exporter": "python",
   "pygments_lexer": "ipython3",
   "version": "3.7.4"
  }
 },
 "nbformat": 4,
 "nbformat_minor": 2
}
