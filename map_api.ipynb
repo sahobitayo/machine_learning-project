{
 "cells": [
  {
   "cell_type": "markdown",
   "metadata": {},
   "source": [
    "## Map API Query"
   ]
  },
  {
   "cell_type": "markdown",
   "metadata": {},
   "source": [
    "### Dependencies"
   ]
  },
  {
   "cell_type": "code",
   "execution_count": 1,
   "metadata": {},
   "outputs": [],
   "source": [
    "# Dependencies\n",
    "import pandas as pd\n",
    "import numpy as np\n",
    "import requests\n",
    "import csv\n",
    "import os\n",
    "\n",
    "import psycopg2\n",
    "from config import (ServerName, UserName, Password, port, DataBase)\n",
    "from sqlalchemy import create_engine\n",
    "from sqlalchemy_utils import create_database, database_exists, drop_database\n",
    "\n",
    "\n",
    "# Dependencies to consult tables from the API\n",
    "import json\n",
    "import pprint\n",
    "import requests\n",
    "\n",
    "# Map API Keys\n",
    "# from config import (api_key)"
   ]
  },
  {
   "cell_type": "markdown",
   "metadata": {},
   "source": [
    "### Exploring Data"
   ]
  },
  {
   "cell_type": "code",
   "execution_count": 10,
   "metadata": {},
   "outputs": [
    {
     "name": "stdout",
     "output_type": "stream",
     "text": [
      "(75849, 7)\n",
      "(360, 8)\n",
      "(2096, 17)\n"
     ]
    }
   ],
   "source": [
    "earthquake_data= pd.read_csv('earthquakes.csv')\n",
    "emission_data= pd.read_csv('emissions.csv')\n",
    "eruption_data= pd.read_csv('eruptions.csv')\n",
    "\n",
    "# = pd.read_csv('AllEvents_Data/AllEvents.csv', low_memory=False)\n",
    "print(earthquake_data.shape)\n",
    "print(emission_data.shape)\n",
    "print(eruption_data.shape)\n",
    "\n",
    "\n",
    "# map_data.shape\n",
    "\n",
    "# base_url = 'https://api.data.gov/ed/collegescorecard/v1/schools.json?api_key='\n",
    "\n",
    "\n",
    "# # query_url = base_url + api_key  + \"&school.state=NY\"\n",
    "# # query_url = base_url + api_key  + \"&school.zip=08873\"\n",
    "\n",
    "# rest_1 = f'&fields=school.open_admissions_policy,school.ownership_peps,school.price_calculator_url,school.city,school.ft_faculty_rate,school.locale,school.accreditor,school.main_campus,school.alias,school.faculty_salary,school.state,school.operating,school.instructional_expenditure_per_fte,school.state_fips,school.zip,school.carnegie_undergrad,school.women_only,school.religious_affiliation,school.tuition_revenue_per_fte,school.under_investigation,school.region_id,school.carnegie_basic,school.branches,school.men_only,school.school_url,school.online_only,school.ownership,school.accreditor_code,school.name,school.degree_urbanization,school.carnegie_size_setting,school.degrees_awarded.predominant,school.degrees_awarded.highest,school.institutional_characteristics.level,school.title_iv.approval_date,school.title_iv.eligibility_type,id,ope8_id,ope6_id,location.lon,location.lat,{year}.cost.tuition.in_state,{year}.cost.tuition.out_of_state,'\n",
    "\n",
    "# rest_2 = \"&per_page=100\"\n",
    "\n",
    "\n",
    "\n",
    "# query_url = base_url + api_key + rest_1 + rest_2 + rest_3\n",
    "# response = requests.get(query_url).json()\n",
    "# # Alternative way of printing the json response\n",
    "# # print(json.dumps(response, indent=4, sort_keys=True))\n",
    "# print(query_url)\n",
    "# # pprint.pprint(response)\n",
    "# print(response)"
   ]
  },
  {
   "cell_type": "markdown",
   "metadata": {},
   "source": [
    "## Schema Creation"
   ]
  },
  {
   "cell_type": "markdown",
   "metadata": {},
   "source": [
    "### Create Database"
   ]
  },
  {
   "cell_type": "code",
   "execution_count": 3,
   "metadata": {},
   "outputs": [
    {
     "name": "stdout",
     "output_type": "stream",
     "text": [
      "The database map_db has been created or it already exists\n"
     ]
    }
   ],
   "source": [
    "engine = create_engine(f'postgres+psycopg2://{UserName}:{Password}@{ServerName}:{port}/{DataBase}')\n",
    "\n",
    "# If a PostgreSQL database with this name exists\n",
    "if database_exists(engine.url):\n",
    "    # Delete PostgreSQL database \n",
    "    drop_database(engine.url)\n",
    "    # Create empty PostgreSQL database\n",
    "    create_database(engine.url)\n",
    "# Otherwise\n",
    "else:\n",
    "    # Create empty PostgreSQL database\n",
    "    create_database(engine.url)\n",
    "    \n",
    "print(f'The database {engine.url.database} has been created or it already exists')"
   ]
  },
  {
   "cell_type": "markdown",
   "metadata": {},
   "source": [
    "### Function to Create Tables"
   ]
  },
  {
   "cell_type": "code",
   "execution_count": 31,
   "metadata": {},
   "outputs": [],
   "source": [
    "def create_tables_sql(sql_file):\n",
    "\n",
    "    fd = open(sqlfile, 'r')\n",
    "    sqlFile = fd.read()\n",
    "    fd.close()\n",
    "\n",
    "    # all SQL commands (split on ';')\n",
    "    sqlCommands = sqlFile.split(';')    \n",
    "\n",
    "    try:\n",
    "        # connect to the PostgreSQL server\n",
    "        engine = create_engine(f'postgres+psycopg2://{UserName}:{Password}@{ServerName}:{port}/{DataBase}')\n",
    "        conn = engine.connect()\n",
    "        # create table one by one\n",
    "        for command in sqlCommands:\n",
    "            trans = conn.begin()\n",
    "            conn.execute(command)\n",
    "            trans.commit()\n",
    "        # Close connection\n",
    "        tables = engine.table_names()\n",
    "        conn.close()\n",
    "        print(f'The Tables {tables} were created')\n",
    "    except (Exception, psycopg2.DatabaseError) as error:\n",
    "        print(error)"
   ]
  },
  {
   "cell_type": "code",
   "execution_count": 32,
   "metadata": {},
   "outputs": [
    {
     "name": "stdout",
     "output_type": "stream",
     "text": [
      "(psycopg2.errors.SyntaxError) syntax error at or near \"ï»¿DROP\"\n",
      "LINE 1: ï»¿DROP TABLE IF EXISTS \"earthquakes\" CASCADE\n",
      "        ^\n",
      "\n",
      "[SQL: ï»¿DROP TABLE IF EXISTS \"earthquakes\" CASCADE]\n",
      "(Background on this error at: http://sqlalche.me/e/f405)\n"
     ]
    }
   ],
   "source": [
    "# Input routes to the output files and the source of the SQL code\n",
    "sqlfile = 'schema.sql'\n",
    "# Run the function to query the db and create output files\n",
    "create_tables_sql(sqlfile)"
   ]
  },
  {
   "cell_type": "code",
   "execution_count": 3,
   "metadata": {},
   "outputs": [],
   "source": [
    "engine = create_engine(f'postgres+psycopg2://{UserName}:{Password}@{ServerName}:{port}/{DataBase}')"
   ]
  },
  {
   "cell_type": "code",
   "execution_count": 4,
   "metadata": {},
   "outputs": [
    {
     "data": {
      "text/html": [
       "<div>\n",
       "<style scoped>\n",
       "    .dataframe tbody tr th:only-of-type {\n",
       "        vertical-align: middle;\n",
       "    }\n",
       "\n",
       "    .dataframe tbody tr th {\n",
       "        vertical-align: top;\n",
       "    }\n",
       "\n",
       "    .dataframe thead th {\n",
       "        text-align: right;\n",
       "    }\n",
       "</style>\n",
       "<table border=\"1\" class=\"dataframe\">\n",
       "  <thead>\n",
       "    <tr style=\"text-align: right;\">\n",
       "      <th></th>\n",
       "      <th>VolcanoNumber</th>\n",
       "      <th>VolcanoName</th>\n",
       "    </tr>\n",
       "  </thead>\n",
       "  <tbody>\n",
       "    <tr>\n",
       "      <td>0</td>\n",
       "      <td>211040</td>\n",
       "      <td>Stromboli</td>\n",
       "    </tr>\n",
       "    <tr>\n",
       "      <td>1</td>\n",
       "      <td>211060</td>\n",
       "      <td>Etna</td>\n",
       "    </tr>\n",
       "    <tr>\n",
       "      <td>2</td>\n",
       "      <td>221010</td>\n",
       "      <td>Tair, Jebel at</td>\n",
       "    </tr>\n",
       "    <tr>\n",
       "      <td>3</td>\n",
       "      <td>221020</td>\n",
       "      <td>Zubair Group</td>\n",
       "    </tr>\n",
       "    <tr>\n",
       "      <td>4</td>\n",
       "      <td>221041</td>\n",
       "      <td>Dallol</td>\n",
       "    </tr>\n",
       "    <tr>\n",
       "      <td>...</td>\n",
       "      <td>...</td>\n",
       "      <td>...</td>\n",
       "    </tr>\n",
       "    <tr>\n",
       "      <td>330</td>\n",
       "      <td>390140</td>\n",
       "      <td>Protector Seamounts</td>\n",
       "    </tr>\n",
       "    <tr>\n",
       "      <td>331</td>\n",
       "      <td>284193</td>\n",
       "      <td>South Sarigan Seamount</td>\n",
       "    </tr>\n",
       "    <tr>\n",
       "      <td>332</td>\n",
       "      <td>385052</td>\n",
       "      <td>Walvis Ridge at 33°S</td>\n",
       "    </tr>\n",
       "    <tr>\n",
       "      <td>333</td>\n",
       "      <td>242005</td>\n",
       "      <td>Havre Seamount</td>\n",
       "    </tr>\n",
       "    <tr>\n",
       "      <td>334</td>\n",
       "      <td>284305</td>\n",
       "      <td>Mariana Back-Arc Segment at 15.5°N</td>\n",
       "    </tr>\n",
       "  </tbody>\n",
       "</table>\n",
       "<p>335 rows × 2 columns</p>\n",
       "</div>"
      ],
      "text/plain": [
       "     VolcanoNumber                         VolcanoName\n",
       "0           211040                           Stromboli\n",
       "1           211060                                Etna\n",
       "2           221010                      Tair, Jebel at\n",
       "3           221020                        Zubair Group\n",
       "4           221041                              Dallol\n",
       "..             ...                                 ...\n",
       "330         390140                 Protector Seamounts\n",
       "331         284193              South Sarigan Seamount\n",
       "332         385052                Walvis Ridge at 33°S\n",
       "333         242005                      Havre Seamount\n",
       "334         284305  Mariana Back-Arc Segment at 15.5°N\n",
       "\n",
       "[335 rows x 2 columns]"
      ]
     },
     "execution_count": 4,
     "metadata": {},
     "output_type": "execute_result"
    }
   ],
   "source": [
    "pd.read_sql(\"select * from code\", engine)"
   ]
  },
  {
   "cell_type": "code",
   "execution_count": null,
   "metadata": {},
   "outputs": [],
   "source": []
  }
 ],
 "metadata": {
  "kernelspec": {
   "display_name": "Python 3",
   "language": "python",
   "name": "python3"
  },
  "language_info": {
   "codemirror_mode": {
    "name": "ipython",
    "version": 3
   },
   "file_extension": ".py",
   "mimetype": "text/x-python",
   "name": "python",
   "nbconvert_exporter": "python",
   "pygments_lexer": "ipython3",
   "version": "3.7.4"
  }
 },
 "nbformat": 4,
 "nbformat_minor": 4
}
